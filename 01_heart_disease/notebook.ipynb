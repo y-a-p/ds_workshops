{
 "metadata": {
  "kernelspec": {
   "language": "python",
   "display_name": "Python 3",
   "name": "python3"
  },
  "language_info": {
   "name": "python",
   "version": "3.7.12",
   "mimetype": "text/x-python",
   "codemirror_mode": {
    "name": "ipython",
    "version": 3
   },
   "pygments_lexer": "ipython3",
   "nbconvert_exporter": "python",
   "file_extension": ".py"
  }
 },
 "nbformat_minor": 4,
 "nbformat": 4,
 "cells": [
  {
   "cell_type": "markdown",
   "source": [
    "Предсказание риска возникновения сердечных заболеваний"
   ],
   "metadata": {
    "collapsed": false
   }
  },
  {
   "cell_type": "markdown",
   "source": [
    "В данной работе представлена модель предсказания риска возникновения сердечных заболеваний.\n",
    "Предсказание основывается на следующий показателях:\n",
    "\n",
    "'age' - возвраст\n",
    "'gender' - пол\n",
    "'height' - рост\n",
    "'weight' - вес\n",
    "'ap_hi' - верхнее давление\n",
    "'ap_lo' - нижнее давление\n",
    "'cholesterol' - холестерин\n",
    "'gluc' - глюкоза\n",
    "'smoke' - курение\n",
    "'alco' - алкоголь\n",
    "'active' - занятия спортом"
   ],
   "metadata": {
    "collapsed": false
   }
  },
  {
   "cell_type": "code",
   "source": [
    "import pandas as pd\n",
    "from ydata_profiling import ProfileReport\n",
    "from sklearn.model_selection import train_test_split\n",
    "from sklearn.ensemble import RandomForestClassifier\n",
    "from sklearn.metrics import roc_auc_score\n",
    "from sklearn.preprocessing import StandardScaler\n",
    "from sklearn.decomposition import PCA\n",
    "from sklearn.model_selection import cross_val_score\n",
    "from sklearn.model_selection import GridSearchCV\n",
    "from sklearn.model_selection import RandomizedSearchCV\n",
    "from pickle import dump, load"
   ],
   "metadata": {
    "execution": {
     "iopub.status.busy": "2023-03-07T14:01:46.585284Z",
     "iopub.execute_input": "2023-03-07T14:01:46.586257Z",
     "iopub.status.idle": "2023-03-07T14:01:52.752113Z",
     "shell.execute_reply.started": "2023-03-07T14:01:46.586187Z",
     "shell.execute_reply": "2023-03-07T14:01:52.750658Z"
    },
    "trusted": true
   },
   "execution_count": 32,
   "outputs": []
  },
  {
   "cell_type": "code",
   "source": [
    "try:\n",
    "    df_train = pd.read_csv('train.csv')\n",
    "except:\n",
    "    print('При чтение файла возникал ошибка')"
   ],
   "metadata": {
    "execution": {
     "iopub.status.busy": "2023-03-07T14:01:52.754529Z",
     "iopub.execute_input": "2023-03-07T14:01:52.755033Z",
     "iopub.status.idle": "2023-03-07T14:01:52.946711Z",
     "shell.execute_reply.started": "2023-03-07T14:01:52.754990Z",
     "shell.execute_reply": "2023-03-07T14:01:52.945312Z"
    },
    "trusted": true
   },
   "execution_count": 7,
   "outputs": []
  },
  {
   "cell_type": "code",
   "source": [
    "#pd.set_option('display.max_rows', None)"
   ],
   "metadata": {
    "execution": {
     "iopub.status.busy": "2023-03-07T14:01:52.948570Z",
     "iopub.execute_input": "2023-03-07T14:01:52.949164Z",
     "iopub.status.idle": "2023-03-07T14:01:52.955362Z",
     "shell.execute_reply.started": "2023-03-07T14:01:52.949105Z",
     "shell.execute_reply": "2023-03-07T14:01:52.953884Z"
    },
    "trusted": true
   },
   "execution_count": 8,
   "outputs": []
  },
  {
   "cell_type": "markdown",
   "source": [
    "Применим ProfileReport для изучения датасета"
   ],
   "metadata": {}
  },
  {
   "cell_type": "code",
   "source": [
    "#profile = ProfileReport(df_train)\n",
    "#profile"
   ],
   "metadata": {
    "execution": {
     "iopub.status.busy": "2023-03-07T14:01:52.958917Z",
     "iopub.execute_input": "2023-03-07T14:01:52.959681Z",
     "iopub.status.idle": "2023-03-07T14:01:52.970300Z",
     "shell.execute_reply.started": "2023-03-07T14:01:52.959623Z",
     "shell.execute_reply": "2023-03-07T14:01:52.968910Z"
    },
    "trusted": true
   },
   "execution_count": 9,
   "outputs": []
  },
  {
   "cell_type": "markdown",
   "source": [
    "Удалим столбец 'id'"
   ],
   "metadata": {
    "collapsed": false
   }
  },
  {
   "cell_type": "code",
   "source": [
    "df_train = df_train.drop('id', axis = 1)"
   ],
   "metadata": {
    "execution": {
     "iopub.status.busy": "2023-03-07T14:01:52.972956Z",
     "iopub.execute_input": "2023-03-07T14:01:52.973525Z",
     "iopub.status.idle": "2023-03-07T14:01:52.995589Z",
     "shell.execute_reply.started": "2023-03-07T14:01:52.973470Z",
     "shell.execute_reply": "2023-03-07T14:01:52.994342Z"
    },
    "trusted": true
   },
   "execution_count": 10,
   "outputs": []
  },
  {
   "cell_type": "markdown",
   "source": [
    "Функция для удаления выбросов"
   ],
   "metadata": {}
  },
  {
   "cell_type": "code",
   "source": [
    "def remove_outliers(df, column_name, lb, ub, imp):\n",
    "\n",
    "    q1 = df[column_name].quantile(lb)\n",
    "    q3 = df[column_name].quantile(ub)\n",
    "    iqr = q3 - q1\n",
    "    \n",
    "    lower_bound = q1 - (imp * iqr)\n",
    "    upper_bound = q3 + (imp * iqr)\n",
    "    \n",
    "    df_cleaned = df[(df[column_name] >= lower_bound) & (df[column_name] <= upper_bound)]\n",
    "    \n",
    "    return df_cleaned, lower_bound, upper_bound"
   ],
   "metadata": {
    "execution": {
     "iopub.status.busy": "2023-03-07T14:01:52.998089Z",
     "iopub.execute_input": "2023-03-07T14:01:52.998988Z",
     "iopub.status.idle": "2023-03-07T14:01:53.009755Z",
     "shell.execute_reply.started": "2023-03-07T14:01:52.998939Z",
     "shell.execute_reply": "2023-03-07T14:01:53.008476Z"
    },
    "trusted": true
   },
   "execution_count": 11,
   "outputs": []
  },
  {
   "cell_type": "markdown",
   "source": [
    "Параметры функции подбирались индивидуального для каждого столбца, так чтобы на валидационной выборке был максимальный показатель roc_auc"
   ],
   "metadata": {}
  },
  {
   "cell_type": "code",
   "source": [
    "df_train, lb_height, ub_height = remove_outliers(df_train, 'height', 0.25, 0.75, 3)\n",
    "df_train, lb_weight, ub_weight = remove_outliers(df_train, 'weight', 0.25, 0.75, 2)"
   ],
   "metadata": {
    "execution": {
     "iopub.status.busy": "2023-03-07T14:01:53.011535Z",
     "iopub.execute_input": "2023-03-07T14:01:53.012251Z",
     "iopub.status.idle": "2023-03-07T14:01:53.051090Z",
     "shell.execute_reply.started": "2023-03-07T14:01:53.012208Z",
     "shell.execute_reply": "2023-03-07T14:01:53.049797Z"
    },
    "trusted": true
   },
   "execution_count": 12,
   "outputs": []
  },
  {
   "cell_type": "markdown",
   "source": [
    "Обработаем значения ap_hi  и ap_lo"
   ],
   "metadata": {}
  },
  {
   "cell_type": "code",
   "source": [
    "df_train.loc[df_train['ap_hi'] < 0, 'ap_hi']  = -df_train['ap_hi']\n",
    "df_train.loc[df_train['ap_lo'] < 0, 'ap_lo']  = -df_train['ap_lo']\n",
    "\n",
    "df_train['dif'] = df_train['ap_hi'] - df_train['ap_lo']\n",
    "\n",
    "df_train.loc[(df_train['ap_lo'] >= 1000) & (df_train['ap_lo'] <2000) & (df_train['dif'] < 0), 'ap_lo']  = (df_train['ap_lo'] / 10).round(0)\n",
    "df_train.loc[(df_train['ap_lo'] >= 5000) & (df_train['ap_lo'] <10000) & (df_train['dif'] < 0), 'ap_lo']  = (df_train['ap_lo'] / 100).round(0)\n",
    "df_train.loc[(df_train['ap_lo'] >= 500) & (df_train['ap_lo'] <1000) & (df_train['dif'] < 0), 'ap_lo']  = (df_train['ap_lo'] / 10).round(0)\n",
    "df_train.loc[(df_train['ap_hi'] >= 10) & (df_train['ap_hi'] <20) & (df_train['dif'] < 0), 'ap_hi']  = (df_train['ap_hi'] * 10).round(0)\n",
    "df_train.loc[(df_train['ap_hi'] == 20) & (df_train['ap_hi'] == 20) & (df_train['dif'] < 0), 'ap_hi']  = (df_train['ap_hi'] * 6).round(0)\n",
    "df_train.loc[(df_train['ap_hi'] >= 10000), 'ap_hi']  = (df_train['ap_hi'] / 100).round(0)\n",
    "df_train.loc[(df_train['ap_hi'] >= 1000), 'ap_hi']  = (df_train['ap_hi'] / 10).round(0)\n",
    "df_train.loc[(df_train['ap_hi'] >= 700), 'ap_hi']  = (df_train['ap_hi'] / 10).round(0)\n",
    "df_train.loc[(df_train['ap_hi'] < 60), 'ap_hi']  = (df_train['ap_hi'] * 10).round(0)\n",
    "df_train.loc[(df_train['ap_lo'] == 1), 'ap_lo']  = (df_train['ap_lo'] * 100).round(0)\n",
    "df_train.loc[(df_train['ap_lo'] <= 10), 'ap_lo']  = (df_train['ap_lo'] * 10).round(0)\n",
    "df_train.loc[(df_train['ap_lo'] >= 10000), 'ap_lo']  = (df_train['ap_lo'] / 100).round(0)\n",
    "df_train.loc[(df_train['ap_hi'] == 10), 'ap_hi']  = (df_train['ap_hi'] * 10).round(0)\n",
    "df_train['dif'] = df_train['ap_hi'] - df_train['ap_lo']\n",
    "df_train.loc[(df_train['dif'] <0), 'ap_hi'], df_train.loc[(df_train['dif'] <0), 'ap_lo'] = df_train.loc[(df_train['dif'] <0), 'ap_lo'], df_train.loc[(df_train['dif'] <0), 'ap_hi']\n",
    "\n",
    "df_train = df_train.drop('dif', axis = 1)"
   ],
   "metadata": {
    "execution": {
     "iopub.status.busy": "2023-03-07T14:01:53.052444Z",
     "iopub.execute_input": "2023-03-07T14:01:53.053260Z",
     "iopub.status.idle": "2023-03-07T14:01:53.129619Z",
     "shell.execute_reply.started": "2023-03-07T14:01:53.053213Z",
     "shell.execute_reply": "2023-03-07T14:01:53.128328Z"
    },
    "trusted": true
   },
   "execution_count": 13,
   "outputs": []
  },
  {
   "cell_type": "markdown",
   "source": [
    "Удалим выбросы"
   ],
   "metadata": {
    "collapsed": false
   }
  },
  {
   "cell_type": "code",
   "source": [
    "df_train, lb_aphi, ub_aphi = remove_outliers(df_train, 'ap_hi', 0.2, 0.75, 3)\n",
    "df_train, lb_aplo, ub_aplo = remove_outliers(df_train, 'ap_lo', 0.25, 0.75, 2)"
   ],
   "metadata": {
    "execution": {
     "iopub.status.busy": "2023-03-07T14:01:53.131201Z",
     "iopub.execute_input": "2023-03-07T14:01:53.131676Z",
     "iopub.status.idle": "2023-03-07T14:01:53.156051Z",
     "shell.execute_reply.started": "2023-03-07T14:01:53.131640Z",
     "shell.execute_reply": "2023-03-07T14:01:53.154883Z"
    },
    "trusted": true
   },
   "execution_count": 14,
   "outputs": []
  },
  {
   "cell_type": "markdown",
   "source": [
    "Запомним средние значения для того, чтобы на них заменить выбросы в тестовой выборки"
   ],
   "metadata": {}
  },
  {
   "cell_type": "code",
   "source": [
    "mean_weight = df_train['weight'].mean()\n",
    "mean_height = df_train['height'].mean()\n",
    "mean_aphi = df_train['ap_hi'].mean()\n",
    "mean_aplo = df_train['ap_lo'].mean()"
   ],
   "metadata": {
    "execution": {
     "iopub.status.busy": "2023-03-07T14:01:53.160259Z",
     "iopub.execute_input": "2023-03-07T14:01:53.161280Z",
     "iopub.status.idle": "2023-03-07T14:01:53.170222Z",
     "shell.execute_reply.started": "2023-03-07T14:01:53.161232Z",
     "shell.execute_reply": "2023-03-07T14:01:53.168912Z"
    },
    "trusted": true
   },
   "execution_count": 15,
   "outputs": []
  },
  {
   "cell_type": "markdown",
   "source": [
    "Была предпринята попытка использовать фичи, на валидационной выборки не удалось достичь хорошего результата"
   ],
   "metadata": {}
  },
  {
   "cell_type": "code",
   "source": [
    "#df_train['imt'] = df_train['weight'] / (df_train['height'] * df_train['height'] / 10000)\n",
    "#df_train['aphi_calc'] = 109 + 0.5 * df_train['age']/365 + 0.1 * df_train['weight'] - df_train['ap_hi'] \n",
    "#df_train['aplo_calc'] = 63 + 0.1 * df_train['age']/365 + 0.15 * df_train['weight'] - df_train['ap_lo'] \n",
    "#df_train = df_train.drop('ap_hi', axis = 1)\n",
    "#df_train = df_train.drop('ap_lo', axis = 1)\n",
    "#df_train = df_train.drop('age', axis = 1)\n",
    "#df_train = df_train.drop('weight', axis = 1)\n",
    "#df_train = df_train.drop('height', axis = 1)"
   ],
   "metadata": {
    "execution": {
     "iopub.status.busy": "2023-03-07T14:01:53.172120Z",
     "iopub.execute_input": "2023-03-07T14:01:53.173156Z",
     "iopub.status.idle": "2023-03-07T14:01:53.188423Z",
     "shell.execute_reply.started": "2023-03-07T14:01:53.173112Z",
     "shell.execute_reply": "2023-03-07T14:01:53.187078Z"
    },
    "trusted": true
   },
   "execution_count": 16,
   "outputs": []
  },
  {
   "cell_type": "code",
   "source": [
    "features_train = df_train.drop(['cardio'], axis=1)\n",
    "target_train = df_train['cardio']"
   ],
   "metadata": {
    "execution": {
     "iopub.status.busy": "2023-03-07T14:01:53.190393Z",
     "iopub.execute_input": "2023-03-07T14:01:53.191480Z",
     "iopub.status.idle": "2023-03-07T14:01:53.207226Z",
     "shell.execute_reply.started": "2023-03-07T14:01:53.191419Z",
     "shell.execute_reply": "2023-03-07T14:01:53.206106Z"
    },
    "trusted": true
   },
   "execution_count": 17,
   "outputs": []
  },
  {
   "cell_type": "code",
   "source": [
    "features_train, features_valid, target_train, target_valid = train_test_split(\n",
    "    features_train, target_train, test_size=0.25, random_state=12345, stratify=target_train)"
   ],
   "metadata": {
    "execution": {
     "iopub.status.busy": "2023-03-07T14:01:53.208646Z",
     "iopub.execute_input": "2023-03-07T14:01:53.209057Z",
     "iopub.status.idle": "2023-03-07T14:01:53.261462Z",
     "shell.execute_reply.started": "2023-03-07T14:01:53.209021Z",
     "shell.execute_reply": "2023-03-07T14:01:53.260024Z"
    },
    "trusted": true
   },
   "execution_count": 18,
   "outputs": []
  },
  {
   "cell_type": "markdown",
   "source": [
    "Была предпринята попытка применить скалирование и метод главных компонент, но на валидационной выборке это не дало хорошего результата"
   ],
   "metadata": {}
  },
  {
   "cell_type": "code",
   "source": [
    "#scaler = StandardScaler()\n",
    "#cols_to_scale = ['age', 'imt', 'ap_lo', 'ap_hi']\n",
    "#features_train_pca = features_train\n",
    "#features_valid_pca = features_valid\n",
    "#features_train_pca[cols_to_scale] = scaler.fit_transform(features_train_pca[cols_to_scale])\n",
    "#features_valid_pca[cols_to_scale] = scaler.transform(features_valid_pca[cols_to_scale])\n",
    "\n",
    "#pca = PCA(n_components=8, random_state=12345)\n",
    "#pca.fit(features_train_pca)\n",
    "#features_train_pca = pca.transform(features_train_pca)\n",
    "#features_valid_pca = pca.transform(features_valid_pca)"
   ],
   "metadata": {
    "execution": {
     "iopub.status.busy": "2023-03-07T14:01:53.263372Z",
     "iopub.execute_input": "2023-03-07T14:01:53.264504Z",
     "iopub.status.idle": "2023-03-07T14:01:53.271112Z",
     "shell.execute_reply.started": "2023-03-07T14:01:53.264453Z",
     "shell.execute_reply": "2023-03-07T14:01:53.269603Z"
    },
    "trusted": true
   },
   "execution_count": 19,
   "outputs": []
  },
  {
   "cell_type": "markdown",
   "source": [
    "С помощью RandomizedSearchCV и GreasSearch были найдены наилучшие параметры"
   ],
   "metadata": {}
  },
  {
   "cell_type": "code",
   "source": [
    "#param_dist = {\n",
    "#    \"n_estimators\": range(1,1001,50),\n",
    "#    \"max_depth\": range(1,101,10),\n",
    "#    \"min_samples_leaf\": range(1,101,10),\n",
    "#    \"random_state\": [12345],\n",
    "#    \"min_samples_split\": [2],\n",
    "#    \"max_features\": ['sqrt'],\n",
    "#    \"class_weight\": ['balanced'],\n",
    "#    \"bootstrap\": [True],\n",
    "#    \"criterion\": ['entropy']\n",
    "#}\n",
    "\n",
    "#rfc = RandomForestClassifier()\n",
    "#random_search = RandomizedSearchCV(rfc, param_distributions=param_dist, n_iter=25, cv=3, n_jobs=-1, scoring='roc_auc', random_state=12345, refit='roc_auc')\n",
    "\n",
    "#random_search.fit(features_train, target_train)\n",
    "#y_pred = random_search.predict_proba(features_valid)[:, 1]\n",
    "\n",
    "#roc_auc = roc_auc_score(target_valid, y_pred)\n",
    "#print(\"ROC AUC на валидации:\",roc_auc)\n",
    "#print(\"Лучшие гиперпараметры:\", random_search.best_params_)"
   ],
   "metadata": {
    "execution": {
     "iopub.status.busy": "2023-03-07T14:01:53.272936Z",
     "iopub.execute_input": "2023-03-07T14:01:53.273346Z",
     "iopub.status.idle": "2023-03-07T14:01:53.286153Z",
     "shell.execute_reply.started": "2023-03-07T14:01:53.273309Z",
     "shell.execute_reply": "2023-03-07T14:01:53.284699Z"
    },
    "trusted": true
   },
   "execution_count": 20,
   "outputs": []
  },
  {
   "cell_type": "code",
   "source": [
    "#rfc = RandomForestClassifier()\n",
    "\n",
    "# Задаем диапазон значений параметров для поиска\n",
    "#param_grid = {\n",
    "#    'criterion': ['entropy'],\n",
    "#    'n_estimators': [851],\n",
    "#    'max_depth': range(35,47,2),\n",
    "#    'min_samples_split': [2],\n",
    "#    'min_samples_leaf':  [45],\n",
    "#    'max_features': ['sqrt'],\n",
    "#    'bootstrap': [True],\n",
    "#    'max_leaf_nodes': [2,10,20],\n",
    "#    'class_weight': ['balanced', None],\n",
    "#    'random_state': [12345]\n",
    "#}\n",
    "\n",
    "# Выполняем поиск наилучших параметров\n",
    "#grid_search = GridSearchCV(rfc, param_grid, cv=5, scoring='roc_auc')\n",
    "       \n",
    "#grid_search.fit(features_train, target_train)\n",
    "\n",
    "#print(\"Best parameters: \", grid_search.best_params_)\n",
    "#print(\"Test score: \", grid_search.score(features_valid, target_valid))"
   ],
   "metadata": {
    "execution": {
     "iopub.status.busy": "2023-03-07T14:01:53.287972Z",
     "iopub.execute_input": "2023-03-07T14:01:53.288746Z",
     "iopub.status.idle": "2023-03-07T14:01:53.305354Z",
     "shell.execute_reply.started": "2023-03-07T14:01:53.288696Z",
     "shell.execute_reply": "2023-03-07T14:01:53.303845Z"
    },
    "trusted": true
   },
   "execution_count": 21,
   "outputs": []
  },
  {
   "cell_type": "markdown",
   "source": [
    "Вручную доопределим наилучшие параметры и подтвердим их на валидационной выборке"
   ],
   "metadata": {}
  },
  {
   "cell_type": "code",
   "source": [
    "rfc_model = RandomForestClassifier(\n",
    "    n_estimators = 401,\n",
    "    max_depth= 21,\n",
    "    min_samples_leaf= 41,\n",
    "    random_state= 12345,\n",
    "    min_samples_split= 2,\n",
    "    max_features= 'sqrt',\n",
    "    class_weight= 'balanced',\n",
    "    bootstrap = True,\n",
    "    criterion = 'entropy'\n",
    ")\n",
    "rfc_model.fit(features_train,target_train)\n",
    "\n",
    "#result = cross_val_score(rfc_model, features_train, target_train, cv=5, scoring='roc_auc').mean() \n",
    "#result\n",
    "roc_auc_score(target_valid, rfc_model.predict_proba(features_valid)[:,1])\n"
   ],
   "metadata": {
    "_kg_hide-input": false,
    "execution": {
     "iopub.status.busy": "2023-03-07T14:01:53.307700Z",
     "iopub.execute_input": "2023-03-07T14:01:53.308270Z",
     "iopub.status.idle": "2023-03-07T14:02:17.380277Z",
     "shell.execute_reply.started": "2023-03-07T14:01:53.308211Z",
     "shell.execute_reply": "2023-03-07T14:02:17.378931Z"
    },
    "trusted": true
   },
   "execution_count": 22,
   "outputs": [
    {
     "data": {
      "text/plain": "0.8090073983535903"
     },
     "execution_count": 22,
     "metadata": {},
     "output_type": "execute_result"
    }
   ]
  },
  {
   "cell_type": "markdown",
   "source": [
    "Сохраним модель, чтобы затем исопльзовать для streamlit"
   ],
   "metadata": {
    "collapsed": false
   }
  },
  {
   "cell_type": "code",
   "execution_count": 33,
   "outputs": [],
   "source": [
    "#with open(\"model.plc\", \"wb\") as fid:\n",
    "#    dump(rfc_model, fid)"
   ],
   "metadata": {
    "collapsed": false
   }
  },
  {
   "cell_type": "markdown",
   "source": [
    "Обработаем тестовые данные"
   ],
   "metadata": {}
  },
  {
   "cell_type": "code",
   "source": [
    "try:\n",
    "    df_test = pd.read_csv('test.csv')\n",
    "except:\n",
    "    print('При чтение файла возникал ошибка')"
   ],
   "metadata": {
    "execution": {
     "iopub.status.busy": "2023-03-07T14:02:17.382109Z",
     "iopub.execute_input": "2023-03-07T14:02:17.382568Z",
     "iopub.status.idle": "2023-03-07T14:02:17.449480Z",
     "shell.execute_reply.started": "2023-03-07T14:02:17.382502Z",
     "shell.execute_reply": "2023-03-07T14:02:17.447989Z"
    },
    "trusted": true
   },
   "execution_count": 23,
   "outputs": []
  },
  {
   "cell_type": "markdown",
   "source": [
    "Функция замены выборосов в тестовой выборки на средние значения, полученные на обучающей выборке"
   ],
   "metadata": {}
  },
  {
   "cell_type": "code",
   "source": [
    "def replace_outliers_with_mean(df, column_name, lower_bound, upper_bound, mean):\n",
    "   \n",
    "    df_cleaned = df.copy()\n",
    "    \n",
    "    outliers = (df_cleaned[column_name] < lower_bound) | (df_cleaned[column_name] > upper_bound)\n",
    "    \n",
    "    df_cleaned.loc[outliers, column_name] = mean\n",
    "    return df_cleaned"
   ],
   "metadata": {
    "execution": {
     "iopub.status.busy": "2023-03-07T14:02:17.451143Z",
     "iopub.execute_input": "2023-03-07T14:02:17.451849Z",
     "iopub.status.idle": "2023-03-07T14:02:17.459737Z",
     "shell.execute_reply.started": "2023-03-07T14:02:17.451799Z",
     "shell.execute_reply": "2023-03-07T14:02:17.458038Z"
    },
    "trusted": true
   },
   "execution_count": 24,
   "outputs": []
  },
  {
   "cell_type": "code",
   "source": [
    "df_test = replace_outliers_with_mean(df_test, 'height', lb_height, ub_height, mean_height)\n",
    "df_test = replace_outliers_with_mean(df_test, 'weight', lb_weight, ub_height, mean_height)"
   ],
   "metadata": {
    "execution": {
     "iopub.status.busy": "2023-03-07T14:02:17.463636Z",
     "iopub.execute_input": "2023-03-07T14:02:17.464073Z",
     "iopub.status.idle": "2023-03-07T14:02:17.484498Z",
     "shell.execute_reply.started": "2023-03-07T14:02:17.464035Z",
     "shell.execute_reply": "2023-03-07T14:02:17.483349Z"
    },
    "trusted": true
   },
   "execution_count": 25,
   "outputs": []
  },
  {
   "cell_type": "code",
   "source": [
    "df_test.loc[df_test['ap_hi'] < 0, 'ap_hi']  = -df_test['ap_hi']\n",
    "df_test.loc[df_test['ap_lo'] < 0, 'ap_lo']  = -df_test['ap_lo']\n",
    "df_test['dif'] = df_test['ap_hi'] - df_test['ap_lo']\n",
    "df_test.loc[(df_test['ap_lo'] >= 1000) & (df_test['ap_lo'] <2000) & (df_test['dif'] < 0), 'ap_lo']  = (df_test['ap_lo'] / 10).round(0)\n",
    "df_test.loc[(df_test['ap_lo'] >= 5000) & (df_test['ap_lo'] <10000) & (df_test['dif'] < 0), 'ap_lo']  = (df_test['ap_lo'] / 100).round(0)\n",
    "df_test.loc[(df_test['ap_lo'] >= 500) & (df_test['ap_lo'] <1000) & (df_test['dif'] < 0), 'ap_lo']  = (df_test['ap_lo'] / 10).round(0)\n",
    "df_test.loc[(df_test['ap_hi'] >= 10) & (df_test['ap_hi'] <20) & (df_test['dif'] < 0), 'ap_hi']  = (df_test['ap_hi'] * 10).round(0)\n",
    "df_test.loc[(df_test['ap_hi'] == 20) & (df_test['ap_hi'] == 20) & (df_test['dif'] < 0), 'ap_hi']  = (df_test['ap_hi'] * 6).round(0)\n",
    "df_test.loc[(df_test['ap_hi'] >= 10000), 'ap_hi']  = (df_test['ap_hi'] / 100).round(0)\n",
    "df_test.loc[(df_test['ap_hi'] >= 1000), 'ap_hi']  = (df_test['ap_hi'] / 10).round(0)\n",
    "df_test.loc[(df_test['ap_hi'] >= 700), 'ap_hi']  = (df_test['ap_hi'] / 10).round(0)\n",
    "df_test.loc[(df_test['ap_hi'] < 60), 'ap_hi']  = (df_test['ap_hi'] * 10).round(0)\n",
    "df_test.loc[(df_test['ap_lo'] == 1), 'ap_lo']  = (df_test['ap_lo'] * 100).round(0)\n",
    "df_test.loc[(df_test['ap_lo'] <= 10), 'ap_lo']  = (df_test['ap_lo'] * 10).round(0)\n",
    "df_test.loc[(df_test['ap_lo'] >= 10000), 'ap_lo']  = (df_test['ap_lo'] / 100).round(0)\n",
    "df_test.loc[(df_test['ap_hi'] == 10), 'ap_hi']  = (df_test['ap_hi'] * 10).round(0)\n",
    "df_test['dif'] = df_test['ap_hi'] - df_test['ap_lo']\n",
    "df_test.loc[(df_test['dif'] <0), 'ap_hi'], df_test.loc[(df_test['dif'] <0), 'ap_lo'] = df_test.loc[(df_test['dif'] <0), 'ap_lo'], df_test.loc[(df_test['dif'] <0), 'ap_hi']\n",
    "df_test = df_test.drop('dif', axis = 1)"
   ],
   "metadata": {
    "execution": {
     "iopub.status.busy": "2023-03-07T14:02:17.486123Z",
     "iopub.execute_input": "2023-03-07T14:02:17.486886Z",
     "iopub.status.idle": "2023-03-07T14:02:17.543215Z",
     "shell.execute_reply.started": "2023-03-07T14:02:17.486838Z",
     "shell.execute_reply": "2023-03-07T14:02:17.541797Z"
    },
    "trusted": true
   },
   "execution_count": 26,
   "outputs": []
  },
  {
   "cell_type": "code",
   "source": [
    "df_test = replace_outliers_with_mean(df_test, 'ap_hi', lb_aphi, ub_aphi, mean_aphi)\n",
    "df_test = replace_outliers_with_mean(df_test, 'ap_lo', lb_aplo, ub_aplo, mean_aplo)"
   ],
   "metadata": {
    "execution": {
     "iopub.status.busy": "2023-03-07T14:02:17.544522Z",
     "iopub.execute_input": "2023-03-07T14:02:17.544929Z",
     "iopub.status.idle": "2023-03-07T14:02:17.561042Z",
     "shell.execute_reply.started": "2023-03-07T14:02:17.544893Z",
     "shell.execute_reply": "2023-03-07T14:02:17.559494Z"
    },
    "trusted": true
   },
   "execution_count": 27,
   "outputs": []
  },
  {
   "cell_type": "code",
   "source": [
    "features_test = df_test.drop('id', axis = 1)"
   ],
   "metadata": {
    "execution": {
     "iopub.status.busy": "2023-03-07T14:02:17.562645Z",
     "iopub.execute_input": "2023-03-07T14:02:17.563308Z",
     "iopub.status.idle": "2023-03-07T14:02:17.571382Z",
     "shell.execute_reply.started": "2023-03-07T14:02:17.563265Z",
     "shell.execute_reply": "2023-03-07T14:02:17.569505Z"
    },
    "trusted": true
   },
   "execution_count": 28,
   "outputs": []
  },
  {
   "cell_type": "code",
   "source": [
    "predictions = rfc_model.predict(features_test)\n",
    "probabilities_valid = rfc_model.predict_proba(features_test)\n",
    "probabilities_one_valid = probabilities_valid[:, 1]"
   ],
   "metadata": {
    "execution": {
     "iopub.status.busy": "2023-03-07T14:02:17.573636Z",
     "iopub.execute_input": "2023-03-07T14:02:17.574051Z",
     "iopub.status.idle": "2023-03-07T14:02:21.272149Z",
     "shell.execute_reply.started": "2023-03-07T14:02:17.574011Z",
     "shell.execute_reply": "2023-03-07T14:02:21.270713Z"
    },
    "trusted": true
   },
   "execution_count": 29,
   "outputs": []
  },
  {
   "cell_type": "code",
   "source": [
    "result = pd.DataFrame({'id': df_test['id'],\n",
    "                   'cardio': probabilities_one_valid })"
   ],
   "metadata": {
    "execution": {
     "iopub.status.busy": "2023-03-07T14:02:21.274238Z",
     "iopub.execute_input": "2023-03-07T14:02:21.274820Z",
     "iopub.status.idle": "2023-03-07T14:02:21.283450Z",
     "shell.execute_reply.started": "2023-03-07T14:02:21.274765Z",
     "shell.execute_reply": "2023-03-07T14:02:21.281662Z"
    },
    "trusted": true
   },
   "execution_count": 30,
   "outputs": []
  },
  {
   "cell_type": "code",
   "source": [
    "result.to_csv('sample_submission.csv', index=False)"
   ],
   "metadata": {
    "execution": {
     "iopub.status.busy": "2023-03-07T14:02:21.285185Z",
     "iopub.execute_input": "2023-03-07T14:02:21.285712Z",
     "iopub.status.idle": "2023-03-07T14:02:21.377809Z",
     "shell.execute_reply.started": "2023-03-07T14:02:21.285667Z",
     "shell.execute_reply": "2023-03-07T14:02:21.376308Z"
    },
    "trusted": true
   },
   "execution_count": 31,
   "outputs": []
  }
 ]
}
